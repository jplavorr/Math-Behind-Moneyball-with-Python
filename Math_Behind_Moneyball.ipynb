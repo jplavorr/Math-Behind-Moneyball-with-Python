{
  "nbformat": 4,
  "nbformat_minor": 0,
  "metadata": {
    "kernelspec": {
      "display_name": "Python 3",
      "language": "python",
      "name": "python3"
    },
    "language_info": {
      "codemirror_mode": {
        "name": "ipython",
        "version": 3
      },
      "file_extension": ".py",
      "mimetype": "text/x-python",
      "name": "python",
      "nbconvert_exporter": "python",
      "pygments_lexer": "ipython3",
      "version": "3.8.5"
    },
    "colab": {
      "name": "Math Behind Moneyball.ipynb",
      "provenance": [],
      "collapsed_sections": [],
      "toc_visible": true,
      "include_colab_link": true
    }
  },
  "cells": [
    {
      "cell_type": "markdown",
      "metadata": {
        "id": "view-in-github",
        "colab_type": "text"
      },
      "source": [
        "<a href=\"https://colab.research.google.com/github/jplavorr/Math-Behind-Moneyball-with-Python/blob/main/Math_Behind_Moneyball.ipynb\" target=\"_parent\"><img src=\"https://colab.research.google.com/assets/colab-badge.svg\" alt=\"Open In Colab\"/></a>"
      ]
    },
    {
      "cell_type": "markdown",
      "metadata": {
        "id": "yG30Wres99r2"
      },
      "source": [
        "<img alt=\"Colaboratory logo\" width=\"15%\" src=\"https://i.postimg.cc/zXN3DHM3/Captura-de-tela-2021-04-22-145652.png\">\n",
        "\n",
        "#### **Data Science & Machine Learning**\n",
        "*by [João Pedro Lavor](https://www.linkedin.com/in/jo%C3%A3o-pedro-lavor-65162312b/)*  \n",
        "\n",
        "---"
      ]
    },
    {
      "cell_type": "markdown",
      "metadata": {
        "id": "hu0vxogdS8G4"
      },
      "source": [
        "#Math Behind Moneyball (Semana 1)\n",
        "\n",
        "Como muitos, me interessei pelo tópico após assistir ao filme ‘Moneyball’, pois como um estudante de matemática, fiquei curioso para saber como os modelos matemáticos descritos no filme realmente funcionam. \n",
        "O filme, retrata a história do livro ‘Moneyball’ do autor Michael Lewis’s, que descreve como o Okland A’s usou de análises matemáticas para ajudar eles a competirem com o sucesso do new York yankees, embora a folha de pagamento média do A’s fosse 40% inferior a dos Yankees.\n",
        "\n",
        "Através de uma indicação, comecei a assistir ao curso [Math Behind Moneyball](https://www.coursera.org/learn/mathematics-sport). Nesse curso, o professor Wayne Winston segue a teoria presente no seu livro [Mathletics](https://www.amazon.com.br/Mathletics-Gamblers-Enthusiasts-Mathematics-Basketball-ebook/dp/B0076LORD2/ref=sr_1_1?__mk_pt_BR=%C3%85M%C3%85%C5%BD%C3%95%C3%91&dchild=1&keywords=mathletics&qid=1623366950&sr=8-1) e faz uso do excel para analisar os dados e fazer analises estatísticas das ligas esportivas e de seus jogadores com o propósito de tirar informações pertinentes que possam vir de ajuda. A matemática no esporte pode ser usada de muitas maneiras. como por ecemplo: \n",
        "\n",
        " * Como um ex vigia noturno, Bill James, revolucionou a forma como os profissionais do baseball avaliam jogadores. Como exatamente James e outros “sabermetricians’**¹** usaram matemática para mudar a maneira que hitters, pitchers e fielders são avaliados.\n",
        "\n",
        " * O professor de economia de Berkley David Romer, que mostrou que as equipes da NFL devem raramente efetuar o Punt no quarto down. Como o professor Roman chegou, usando matemática nessa conclusão um tanto controversa?\n",
        "\n",
        " * Como Mark Cuban usou modelos matematicos para revitalizar a franquia decaida do Dallas Mavericks. Quais modelos matematicos que cuban usa para avaliar jogadores e escalações?\n",
        "\n",
        " * Talvez se pergunte como matematica pode ajuda-lo a se sair melhor nas postas. Como a matematica pode determinar a probabilidade de uma equipe vencer um jogo, ou até mesmo o torneio da NCAA, ou apenas cobrir a 'propagação de pontos'**²**?\n",
        "\n",
        "Os exemplos citados acima serão revistos ao longo desses artigos e irei explicar com detalhes como foi usada a matemática e análise de dados nesses exemplos. Nesses artigos, também irei \"traduzir\" o conteúdo desse curso (que é visto em excel) para linguagem de progamação python, que é uma linguagem que eu tenho mais familiraridade e acho que é uma evolução interessante a se aplicar nesse curso. Não se preocupem caso não entendam sobre o esporte que irei falar em questão, pois tentarei deixar bem claro as regras e como funciona os modelos de cada esporte que iremos estudar. \n",
        "\n",
        "Os dados que irei usar nessa série de artigos foram criadas usando webscraping. Que eu ensino a como conseguir nesse artigo: 'artigo'.\n",
        "\n",
        "\n",
        "-------\n",
        "\n",
        "\n",
        "\n",
        "\n",
        "\n",
        "**¹**:Sabermetrics é a análise empírica do baseball, especialmente as estatísticas do baseball que medem a atividade no jogo. Sabermetricians recolhem e resumem os dados relevantes da atividade no jogo para responder a perguntas específicas. O termo \"sabermetrics\" foi cunhado por Bill James, que é um de seus pioneiros e é frequentemente considerado seu defensor e rosto público mais proeminente.\n",
        "\n",
        "**²**: Quando apostar no basquete, por exemplo, o time em que você aposta deve \"cobrir a diferença\". Isso significa que a equipe deve vencer ou não perder por uma margem predeterminada de pontos. \n"
      ]
    },
    {
      "cell_type": "markdown",
      "metadata": {
        "id": "XfwZJJbxxHLB"
      },
      "source": [
        "# Part 1: Baseball\n",
        "\n",
        "## Baseball's Pythagorean Theorem\n",
        "Quanto mais `Runs` um time de baseball marcar, mais jogos o time deve vencêr. Por outro lado, quanto menos `runs` o time ceder, mais jogos o time deve ganhar.\n",
        "\n",
        "A porcentagem de jogos vencidas por um time de baseball pode ser aproximada pela seguinte fórmula:\n",
        "\n",
        "$$ \\dfrac{(Runs \\ Scored)^2}{(Runs \\ Scored)^2 + (Runs \\ Allowed)^2} = \\ \\textrm{Estimativa da percentagem de jogos vencidos.} \\ $$ \n",
        "\n",
        "Vamos definir: $$ R := \\dfrac{(Runs \\ Scored)^2}{(Runs \\ Allowed)^2}$$\n",
        "\n",
        "Como a taxa de pontos (Scoring Ratio). Portanto, podemos reduzir a fórmula acima como:\n",
        "\n",
        "$$\\dfrac{ \\dfrac{(r.s)^2}{(r.a)^2}}{\\dfrac{(r.s)^2}{(r.a)^2}+\\dfrac{(r.a)^2}{(r.a)^2}} = \\dfrac{R^2}{R^2 + 1} = \\ \\textrm{Estimativa da percentagem de jogos vencidos.} \\ $$\n",
        "\n",
        "\n",
        "Por exemplo, Detroit Tigers de 2006 marcou 822 runs e cedeu 675 runs. A taxa de pontos foi $R = 1.218$ e pelo T.P.B. temos que $\\dfrac{1.218^2}{1.218^2 + 1}=0.597$ é a previsão de vitorias pelo Detroit. Em 2006, O Detroit venceu exatamente 95/162 = 0.586, Logo a fórmula está fora por 1.1%."
      ]
    },
    {
      "cell_type": "code",
      "metadata": {
        "colab": {
          "base_uri": "https://localhost:8080/"
        },
        "id": "icTIUJB1-_tU",
        "outputId": "753be8b9-1dbe-42fe-f994-d009426eee03"
      },
      "source": [
        "from google.colab import drive\n",
        "drive.mount('/content/drive')"
      ],
      "execution_count": null,
      "outputs": [
        {
          "output_type": "stream",
          "text": [
            "Mounted at /content/drive\n"
          ],
          "name": "stdout"
        }
      ]
    },
    {
      "cell_type": "code",
      "metadata": {
        "id": "L9CXKQkhxHLH"
      },
      "source": [
        "import pandas as pd\n",
        "import numpy as np"
      ],
      "execution_count": null,
      "outputs": []
    },
    {
      "cell_type": "code",
      "metadata": {
        "id": "8Ofu_qxxxHLI"
      },
      "source": [
        "df = pd.read_excel('/content/drive/MyDrive/Pythagbaseball.xls')"
      ],
      "execution_count": null,
      "outputs": []
    },
    {
      "cell_type": "code",
      "metadata": {
        "id": "YIV2BbBZxHLI",
        "colab": {
          "base_uri": "https://localhost:8080/",
          "height": 204
        },
        "outputId": "519f0309-ae7d-4d80-92b4-b8dd221638f1"
      },
      "source": [
        "df.head()"
      ],
      "execution_count": null,
      "outputs": [
        {
          "output_type": "execute_result",
          "data": {
            "text/html": [
              "<div>\n",
              "<style scoped>\n",
              "    .dataframe tbody tr th:only-of-type {\n",
              "        vertical-align: middle;\n",
              "    }\n",
              "\n",
              "    .dataframe tbody tr th {\n",
              "        vertical-align: top;\n",
              "    }\n",
              "\n",
              "    .dataframe thead th {\n",
              "        text-align: right;\n",
              "    }\n",
              "</style>\n",
              "<table border=\"1\" class=\"dataframe\">\n",
              "  <thead>\n",
              "    <tr style=\"text-align: right;\">\n",
              "      <th></th>\n",
              "      <th>year</th>\n",
              "      <th>Team</th>\n",
              "      <th>Wins</th>\n",
              "      <th>Losses</th>\n",
              "      <th>Runs Scored</th>\n",
              "      <th>Runs Allowed</th>\n",
              "    </tr>\n",
              "  </thead>\n",
              "  <tbody>\n",
              "    <tr>\n",
              "      <th>0</th>\n",
              "      <td>2006</td>\n",
              "      <td>Diamondbacks</td>\n",
              "      <td>76</td>\n",
              "      <td>86</td>\n",
              "      <td>773</td>\n",
              "      <td>788</td>\n",
              "    </tr>\n",
              "    <tr>\n",
              "      <th>1</th>\n",
              "      <td>2006</td>\n",
              "      <td>Braves</td>\n",
              "      <td>79</td>\n",
              "      <td>83</td>\n",
              "      <td>849</td>\n",
              "      <td>805</td>\n",
              "    </tr>\n",
              "    <tr>\n",
              "      <th>2</th>\n",
              "      <td>2006</td>\n",
              "      <td>Orioles</td>\n",
              "      <td>70</td>\n",
              "      <td>92</td>\n",
              "      <td>768</td>\n",
              "      <td>899</td>\n",
              "    </tr>\n",
              "    <tr>\n",
              "      <th>3</th>\n",
              "      <td>2006</td>\n",
              "      <td>Red Sox</td>\n",
              "      <td>86</td>\n",
              "      <td>76</td>\n",
              "      <td>820</td>\n",
              "      <td>825</td>\n",
              "    </tr>\n",
              "    <tr>\n",
              "      <th>4</th>\n",
              "      <td>2006</td>\n",
              "      <td>White Sox</td>\n",
              "      <td>90</td>\n",
              "      <td>72</td>\n",
              "      <td>868</td>\n",
              "      <td>794</td>\n",
              "    </tr>\n",
              "  </tbody>\n",
              "</table>\n",
              "</div>"
            ],
            "text/plain": [
              "   year          Team  Wins  Losses  Runs Scored  Runs Allowed\n",
              "0  2006  Diamondbacks    76      86          773           788\n",
              "1  2006        Braves    79      83          849           805\n",
              "2  2006       Orioles    70      92          768           899\n",
              "3  2006       Red Sox    86      76          820           825\n",
              "4  2006     White Sox    90      72          868           794"
            ]
          },
          "metadata": {
            "tags": []
          },
          "execution_count": 5
        }
      ]
    },
    {
      "cell_type": "code",
      "metadata": {
        "id": "_-D09mf0xHLJ"
      },
      "source": [
        "df['scoring_ratio'] = df['Runs Scored']/df['Runs Allowed']"
      ],
      "execution_count": null,
      "outputs": []
    },
    {
      "cell_type": "code",
      "metadata": {
        "id": "M787mXErxHLJ"
      },
      "source": [
        "df_copy = df.copy()"
      ],
      "execution_count": null,
      "outputs": []
    },
    {
      "cell_type": "code",
      "metadata": {
        "id": "YpZCyuVfxHLJ"
      },
      "source": [
        "df_copy['Predicted_winning_%'] = (df_copy['scoring_ratio']**3)/(1 + df_copy['scoring_ratio']**3)"
      ],
      "execution_count": null,
      "outputs": []
    },
    {
      "cell_type": "code",
      "metadata": {
        "id": "zXDbBdisxHLK"
      },
      "source": [
        "df_copy['Actual_winning_%'] = df_copy['Wins']/(df_copy['Wins'] + df_copy['Losses'])"
      ],
      "execution_count": null,
      "outputs": []
    },
    {
      "cell_type": "code",
      "metadata": {
        "id": "B93ecIf2xHLK"
      },
      "source": [
        "df_copy['Absolute_error'] = abs(df_copy['Actual_winning_%'] - df_copy['Predicted_winning_%'])"
      ],
      "execution_count": null,
      "outputs": []
    },
    {
      "cell_type": "code",
      "metadata": {
        "id": "h7AMVvJHxHLL",
        "outputId": "58a07b2f-b8e4-4020-8f98-4b5e6d94da84"
      },
      "source": [
        "df_copy.head()"
      ],
      "execution_count": null,
      "outputs": [
        {
          "output_type": "execute_result",
          "data": {
            "text/html": [
              "<div>\n",
              "<style scoped>\n",
              "    .dataframe tbody tr th:only-of-type {\n",
              "        vertical-align: middle;\n",
              "    }\n",
              "\n",
              "    .dataframe tbody tr th {\n",
              "        vertical-align: top;\n",
              "    }\n",
              "\n",
              "    .dataframe thead th {\n",
              "        text-align: right;\n",
              "    }\n",
              "</style>\n",
              "<table border=\"1\" class=\"dataframe\">\n",
              "  <thead>\n",
              "    <tr style=\"text-align: right;\">\n",
              "      <th></th>\n",
              "      <th>year</th>\n",
              "      <th>Team</th>\n",
              "      <th>Wins</th>\n",
              "      <th>Losses</th>\n",
              "      <th>Runs Scored</th>\n",
              "      <th>Runs Allowed</th>\n",
              "      <th>scoring_ratio</th>\n",
              "      <th>Predicted_winning_%</th>\n",
              "      <th>Actual_winning_%</th>\n",
              "      <th>Absolute_error</th>\n",
              "    </tr>\n",
              "  </thead>\n",
              "  <tbody>\n",
              "    <tr>\n",
              "      <th>0</th>\n",
              "      <td>2006</td>\n",
              "      <td>Diamondbacks</td>\n",
              "      <td>76</td>\n",
              "      <td>86</td>\n",
              "      <td>773</td>\n",
              "      <td>788</td>\n",
              "      <td>0.980964</td>\n",
              "      <td>0.485590</td>\n",
              "      <td>0.469136</td>\n",
              "      <td>0.016454</td>\n",
              "    </tr>\n",
              "    <tr>\n",
              "      <th>1</th>\n",
              "      <td>2006</td>\n",
              "      <td>Braves</td>\n",
              "      <td>79</td>\n",
              "      <td>83</td>\n",
              "      <td>849</td>\n",
              "      <td>805</td>\n",
              "      <td>1.054658</td>\n",
              "      <td>0.539828</td>\n",
              "      <td>0.487654</td>\n",
              "      <td>0.052174</td>\n",
              "    </tr>\n",
              "    <tr>\n",
              "      <th>2</th>\n",
              "      <td>2006</td>\n",
              "      <td>Orioles</td>\n",
              "      <td>70</td>\n",
              "      <td>92</td>\n",
              "      <td>768</td>\n",
              "      <td>899</td>\n",
              "      <td>0.854283</td>\n",
              "      <td>0.384029</td>\n",
              "      <td>0.432099</td>\n",
              "      <td>0.048069</td>\n",
              "    </tr>\n",
              "    <tr>\n",
              "      <th>3</th>\n",
              "      <td>2006</td>\n",
              "      <td>Red Sox</td>\n",
              "      <td>86</td>\n",
              "      <td>76</td>\n",
              "      <td>820</td>\n",
              "      <td>825</td>\n",
              "      <td>0.993939</td>\n",
              "      <td>0.495441</td>\n",
              "      <td>0.530864</td>\n",
              "      <td>0.035423</td>\n",
              "    </tr>\n",
              "    <tr>\n",
              "      <th>4</th>\n",
              "      <td>2006</td>\n",
              "      <td>White Sox</td>\n",
              "      <td>90</td>\n",
              "      <td>72</td>\n",
              "      <td>868</td>\n",
              "      <td>794</td>\n",
              "      <td>1.093199</td>\n",
              "      <td>0.566436</td>\n",
              "      <td>0.555556</td>\n",
              "      <td>0.010880</td>\n",
              "    </tr>\n",
              "  </tbody>\n",
              "</table>\n",
              "</div>"
            ],
            "text/plain": [
              "   year          Team  Wins  Losses  Runs Scored  Runs Allowed  scoring_ratio  \\\n",
              "0  2006  Diamondbacks    76      86          773           788       0.980964   \n",
              "1  2006        Braves    79      83          849           805       1.054658   \n",
              "2  2006       Orioles    70      92          768           899       0.854283   \n",
              "3  2006       Red Sox    86      76          820           825       0.993939   \n",
              "4  2006     White Sox    90      72          868           794       1.093199   \n",
              "\n",
              "   Predicted_winning_%  Actual_winning_%  Absolute_error  \n",
              "0             0.485590          0.469136        0.016454  \n",
              "1             0.539828          0.487654        0.052174  \n",
              "2             0.384029          0.432099        0.048069  \n",
              "3             0.495441          0.530864        0.035423  \n",
              "4             0.566436          0.555556        0.010880  "
            ]
          },
          "metadata": {
            "tags": []
          },
          "execution_count": 9
        }
      ]
    },
    {
      "cell_type": "markdown",
      "metadata": {
        "id": "YNUc-dp01bAT"
      },
      "source": [
        "##Error \n",
        "\n",
        "Um erro positivo significa que o time ganhou mais jogos que o previsto, enquanto um erro negatico significa que o time ganhou menos jogos que o previsto. \n",
        "\n"
      ]
    },
    {
      "cell_type": "markdown",
      "metadata": {
        "id": "oaAitxiYxHLL"
      },
      "source": [
        "## MAD\n",
        "A média dos erros absolutos previstos para cada time mede o quão bem a previsão corresponde às percentagens reais de vitoria da equipe\n",
        "\n",
        "A Média dos Erros Absolutos de previsão é chamado de MAD (Mean Absolute Deviation)"
      ]
    },
    {
      "cell_type": "code",
      "metadata": {
        "id": "R5r1CiBvxHLM"
      },
      "source": [
        "MAD = df_copy['Absolute_error'].mean()"
      ],
      "execution_count": null,
      "outputs": []
    },
    {
      "cell_type": "code",
      "metadata": {
        "id": "7xTHCt8uxHLM",
        "outputId": "e7f0ac1c-c53b-45d6-f134-db7abd953df9"
      },
      "source": [
        "MAD"
      ],
      "execution_count": null,
      "outputs": [
        {
          "output_type": "execute_result",
          "data": {
            "text/plain": [
              "0.03388843546814377"
            ]
          },
          "metadata": {
            "tags": []
          },
          "execution_count": 11
        }
      ]
    },
    {
      "cell_type": "markdown",
      "metadata": {
        "id": "yyeX63OKxHLM"
      },
      "source": [
        "## Qual melhor exp ?\n",
        "\n",
        "Em vez de cegamente assumir que a percentagem de vitorias pode ser aproximada usando o quadrado da razão da pontuação, talvez devessemos tentar usar uma fórmula para prever % de vitorias como: $$ \\dfrac{ R^{exp} }{ R^{exp} + 1} $$\n",
        "\n",
        "Podemos tentar ajustar a fórmula acima, de tal forma que iremos variar o valor de $exp$ que se ajusta melhor a dependencia real de porcentagem de vitorias na taxa de pontuação para diferentes esportes (reescrever toda essa parte). Podemos analisar qual o melhor $exp$ para a formula calculando cada MAD respectivo ao exp em questão e ver qual resulta no menor MAD.\n",
        "\n",
        "\n",
        "Resposta para baseball: mad entre 1 e 3."
      ]
    },
    {
      "cell_type": "code",
      "metadata": {
        "id": "mLB2D5Q-xHLN"
      },
      "source": [
        "exp = np.arange(0.5,3.1,0.1)"
      ],
      "execution_count": null,
      "outputs": []
    },
    {
      "cell_type": "code",
      "metadata": {
        "id": "NeE3rq_qxHLN",
        "outputId": "3bf7e74c-9853-4abc-f49c-37b4ad82ace9"
      },
      "source": [
        "exp"
      ],
      "execution_count": null,
      "outputs": [
        {
          "output_type": "execute_result",
          "data": {
            "text/plain": [
              "array([0.5, 0.6, 0.7, 0.8, 0.9, 1. , 1.1, 1.2, 1.3, 1.4, 1.5, 1.6, 1.7,\n",
              "       1.8, 1.9, 2. , 2.1, 2.2, 2.3, 2.4, 2.5, 2.6, 2.7, 2.8, 2.9, 3. ])"
            ]
          },
          "metadata": {
            "tags": []
          },
          "execution_count": 13
        }
      ]
    },
    {
      "cell_type": "code",
      "metadata": {
        "id": "7smijCDNxHLN"
      },
      "source": [
        "lista_MAD = []\n",
        "for i in exp:\n",
        "    predict = df_copy['scoring_ratio']**i/(1 + df_copy['scoring_ratio']**i)\n",
        "    error = abs(df_copy['Actual_winning_%'] - predict)\n",
        "    MAD = error.mean()\n",
        "    lista_MAD.append(MAD)"
      ],
      "execution_count": null,
      "outputs": []
    },
    {
      "cell_type": "code",
      "metadata": {
        "id": "4cKcWnvJxHLO"
      },
      "source": [
        "MAD = np.array(lista_MAD)"
      ],
      "execution_count": null,
      "outputs": []
    },
    {
      "cell_type": "code",
      "metadata": {
        "id": "kEEYMPaYxHLO"
      },
      "source": [
        "data = {'exp':exp,\n",
        "        'MAD': MAD}"
      ],
      "execution_count": null,
      "outputs": []
    },
    {
      "cell_type": "code",
      "metadata": {
        "id": "t8uIAhTSxHLO"
      },
      "source": [
        "MAD_exp = pd.DataFrame (data, columns = ['exp','MAD'])"
      ],
      "execution_count": null,
      "outputs": []
    },
    {
      "cell_type": "markdown",
      "metadata": {
        "id": "TJcVOhc33gpf"
      },
      "source": [
        "Existem outras equações melhores(mais precisas) que o TPB, mas ela é simples, intuitiva e funciona! Portanto não há necessidade de procurar um método mais eficaz(embora, mais preciso).\n",
        "\n",
        "## O quão Boa é a Previsão do Teorema?\n",
        "\n",
        "Para testar a utilidade do TPB (ou qualquer modelo de previsão), devemos verificar o quão bem ele prevê o futuro. Vamos comparar o T.P. para cada MLB playoffs series (1980-2007) com uma previsão baseada apenas em jogos vencidos(Basicamente, prever o time que venceu uma serie de playoffs baseando=se apenas em quem venceu mais jogos na temporada regular). O TP preveu corretamente 57 dos 106 séries de playoffs (52.8%) enquanto \"games won\" preveu 50% (50 de 100¹)\n",
        "\n",
        "\n",
        "----\n",
        "\n",
        "**¹**: Alguns times tinham historicos iguais."
      ]
    },
    {
      "cell_type": "markdown",
      "metadata": {
        "id": "PsI6QPFV4m8Z"
      },
      "source": [
        "## Importância do TPB\n",
        "Nos permite determinar quantas vitorias (ou derrotas) a mais irão resultar de uma troca de jogadores."
      ]
    },
    {
      "cell_type": "markdown",
      "metadata": {
        "id": "ofpXsEjLxHLP"
      },
      "source": [
        "## Ten Runs  = One Win !\n",
        "\n",
        "Queremos saber em quantas `runs` um time deve aumentar para conseguir mais uma vitoria. \n",
        "\n",
        "$$   \\dfrac{ R^{exp} }{ R^{exp} + 1} = P      $$\n",
        "\n",
        "$$ GWP = P \\cdot 162 \\  \\Rightarrow \\ P = \\dfrac{GWP}{102}   \\\\ \n",
        "\\therefore \\ \\  \\dfrac{ R^{exp} }{ R^{exp} + 1} = \\dfrac{GWP}{102}$$\n",
        "\n",
        "Por questões de abreviação, vamos tomar $GWP = G$.\n",
        "\n",
        "Isolando $R^{exp}$, ovtemos: $$ \\ \\ G \\cdot R^{exp} + G - 162 \\cdot R^{exp} = 0  \\\\ \\ \\ R^{exp} \\cdot (G - 162) + G = 0 \\\\ \n",
        " \\ \\ R^{exp} = \\dfrac{-G}{G - 162}  \\\\   \\ \\ R = \\sqrt[exp]{ \\dfrac{-G}{GWP - 162} }$$\n",
        "\n",
        "Como $G \\leq 162 \\Rightarrow \\dfrac{-G}{GWP - 162} > 0 $. Portanto, a fórmula acima está bem definida.\n",
        "\n",
        "$$ R = \\dfrac{RS}{RA} = \\sqrt[exp]{\\dfrac{-G}{GWP - 162}} \\ \\ \\Rightarrow \\ \\ RF = RA \\cdot  \\sqrt[exp]{\\dfrac{-G}{GWP - 162}} $$\n",
        "\n",
        "Essa fórmula acima nos ajuda a replicar a performance (especifica para esse caso) do GOAL SEEK do excel - GOAL SEEK permite a resolução retroativa de um valor de entrada quando dado o resultado final. \n",
        "\n",
        "------\n",
        "P: Percentagem de vitorias que nossa fórmula preveu.\n",
        "\n",
        "\n",
        "GWP :  A quantidade de jogos que nossa fórmula preveu que o time venceu."
      ]
    },
    {
      "cell_type": "code",
      "metadata": {
        "id": "45oUG_r4xHLQ"
      },
      "source": [
        "def predict(RF, RA, exp):\n",
        "    R = RF/RA\n",
        "    games_won = (R**exp)*162/(1 + R**exp)\n",
        "    \n",
        "    return  games_won "
      ],
      "execution_count": null,
      "outputs": []
    },
    {
      "cell_type": "code",
      "metadata": {
        "id": "ZWHM_JgpxHLQ",
        "outputId": "d385e12f-a467-4363-dd53-9a313a4354b0"
      },
      "source": [
        "predict(710, 710, 2)"
      ],
      "execution_count": null,
      "outputs": [
        {
          "output_type": "execute_result",
          "data": {
            "text/plain": [
              "81.0"
            ]
          },
          "metadata": {
            "tags": []
          },
          "execution_count": 37
        }
      ]
    },
    {
      "cell_type": "markdown",
      "metadata": {
        "id": "5MhBhCAMxHLR"
      },
      "source": [
        "O quanto devemos aumentar Runs For para que possamos vencer mais um jogo?"
      ]
    },
    {
      "cell_type": "code",
      "metadata": {
        "id": "3EnIYIm8xHLR"
      },
      "source": [
        "def inverse_function(RA, exp, G):\n",
        "    X = (-G/(G-162))**(1/exp)\n",
        "    RF = RA*X\n",
        "    return RF"
      ],
      "execution_count": null,
      "outputs": []
    },
    {
      "cell_type": "code",
      "metadata": {
        "id": "351_6WX5xHLR",
        "outputId": "df01c182-cf1b-4688-c94b-cc8db90540c3"
      },
      "source": [
        "inverse_function(710, 2, 82)\n",
        "print(\"Numero de Runs para obter uma vitória:\",RF - inverse_function(710, 2, 82))"
      ],
      "execution_count": null,
      "outputs": [
        {
          "output_type": "execute_result",
          "data": {
            "text/plain": [
              "718.8202139617388"
            ]
          },
          "metadata": {
            "tags": []
          },
          "execution_count": 45
        }
      ]
    },
    {
      "cell_type": "markdown",
      "metadata": {
        "id": "KgUAFtTvJJYV"
      },
      "source": [
        "#Capitulo 2\n",
        "\n"
      ]
    },
    {
      "cell_type": "markdown",
      "metadata": {
        "id": "nwWERPCZoVzo"
      },
      "source": [
        "##Quem Teve um Melhor Ano?\n",
        "\n",
        "### Normar Garciapava x Ichiro Susuki"
      ]
    },
    {
      "cell_type": "markdown",
      "metadata": {
        "id": "dTsNx_I3oRFm"
      },
      "source": [
        "##Evaluating Hitters By Linear Weights\n",
        "\n",
        "No capitulo passado, vimos como avaliar hitters pela métrica \"Runs Created\". Aqui, nesta seção, veremos como avaliar hitters usando a métricar \"linear weights\".\n",
        "\n",
        "Usando Multiple Linear Regression, podemos tentar prever uma dada variável `y` dado um conjunto de variáveis independente `(x1, x2,...,xn)` detonado por `X`. Usualmente, tentamos achar pesos `B1, B2,...,Bn` e uma constante `K` que torna a quantidade:  \n",
        "\n",
        "$$ K + B_1 \\cdot X_1 + B_2 \\cdot X_2 + \\dots + B_n \\cdot X_n$$\n",
        "\n",
        "Um bom previsor para variável `y`.\n",
        "Sabermetricians (Pessoas que trabalham aplicando matemática no baseball) chamam esses pesos de 'Pesos Lineares'.\n",
        "\n",
        "$$ y = var \\ \\  Dependente = Runs \\ \\ Scored \\ \\ in \\ \\ a \\ \\ Season$$\n",
        "\n",
        "Para nossas variaveis independentes, iremos usar: `BB+HBP, Singles, 2B, 3B, HR, SB(Stolen Base) e CS(Caught Stealing).` Nossa equação será: \n",
        "\n",
        "$$ y = K + B_1 \\cdot (BB + HBP) + B_2 \\cdot (Singles) + B_3 \\cdot (2B) + B_4 \\cdot (3B) + B_5 \\cdot (HR) + B_6 \\cdot (SB) + B_7 \\cdot (CS)$$\n",
        "\n",
        "Onde y é a previsão de runs para uma temporada."
      ]
    },
    {
      "cell_type": "code",
      "metadata": {
        "id": "hBBJxmasxHLS"
      },
      "source": [
        ""
      ],
      "execution_count": null,
      "outputs": []
    }
  ]
}